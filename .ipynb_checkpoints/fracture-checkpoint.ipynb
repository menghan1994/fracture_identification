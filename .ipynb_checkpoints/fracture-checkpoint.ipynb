{
 "cells": [
  {
   "cell_type": "code",
   "execution_count": 1,
   "metadata": {},
   "outputs": [
    {
     "name": "stderr",
     "output_type": "stream",
     "text": [
      "Using TensorFlow backend.\n"
     ]
    }
   ],
   "source": [
    "import matplotlib.pyplot as plt # plt 用于显示图片\n",
    "import matplotlib.image as mpimg # mpimg 用于读取图片\n",
    "import numpy as np\n",
    "import pandas as pd\n",
    "from core.dataloader import DataLoader_for_training, DataLoader_for_predict\n",
    "from core.model import *\n",
    "'''import tensorflow as tf\n",
    "from tensorflow import keras\n",
    "from tensorflow.keras import layers, models\n",
    "from keras.models import load_model\n",
    "from keras.layers import Dense, Activation\n",
    "from keras.layers import Dropout\n",
    "from keras import initializers'''\n",
    "from keras.models import load_model\n",
    "from scipy import misc"
   ]
  },
  {
   "cell_type": "code",
   "execution_count": 2,
   "metadata": {},
   "outputs": [],
   "source": [
    "train_x = pd.read_csv('data/MH_good_training_data/original_all_6_6.csv',header = None).values\n",
    "train_y = pd.read_csv('data/MH_good_training_data/labled_all_6_6.csv',header = None).values\n",
    "#test_x = pd.read_csv('data/test1_4_4.csv',header = None).values"
   ]
  },
  {
   "cell_type": "code",
   "execution_count": 3,
   "metadata": {
    "scrolled": true
   },
   "outputs": [
    {
     "name": "stdout",
     "output_type": "stream",
     "text": [
      "Train on 1171796 samples\n",
      "1171796/1171796 [==============================] - 54s 47us/sample - loss: 0.0537 - accuracy: 0.9885\n"
     ]
    },
    {
     "name": "stderr",
     "output_type": "stream",
     "text": [
      "/home/h-meng/.local/lib/python3.6/site-packages/ipykernel_launcher.py:6: DeprecationWarning: `imsave` is deprecated!\n",
      "`imsave` is deprecated in SciPy 1.0.0, and will be removed in 1.2.0.\n",
      "Use ``imageio.imwrite`` instead.\n",
      "  \n"
     ]
    },
    {
     "name": "stdout",
     "output_type": "stream",
     "text": [
      "Train on 1171796 samples\n",
      "Epoch 1/2\n",
      "1171796/1171796 [==============================] - 55s 47us/sample - loss: 0.0561 - accuracy: 0.9881\n",
      "Epoch 2/2\n",
      "1171796/1171796 [==============================] - 54s 46us/sample - loss: 0.0359 - accuracy: 0.9910\n"
     ]
    },
    {
     "name": "stderr",
     "output_type": "stream",
     "text": [
      "/home/h-meng/.local/lib/python3.6/site-packages/ipykernel_launcher.py:6: DeprecationWarning: `imsave` is deprecated!\n",
      "`imsave` is deprecated in SciPy 1.0.0, and will be removed in 1.2.0.\n",
      "Use ``imageio.imwrite`` instead.\n",
      "  \n"
     ]
    },
    {
     "name": "stdout",
     "output_type": "stream",
     "text": [
      "Train on 1171796 samples\n",
      "Epoch 1/3\n",
      "1171796/1171796 [==============================] - 54s 46us/sample - loss: 0.0491 - accuracy: 0.9885\n",
      "Epoch 2/3\n",
      "1171796/1171796 [==============================] - 53s 46us/sample - loss: 0.0369 - accuracy: 0.9911\n",
      "Epoch 3/3\n",
      "1171796/1171796 [==============================] - 54s 46us/sample - loss: 0.0385 - accuracy: 0.9915\n"
     ]
    },
    {
     "name": "stderr",
     "output_type": "stream",
     "text": [
      "/home/h-meng/.local/lib/python3.6/site-packages/ipykernel_launcher.py:6: DeprecationWarning: `imsave` is deprecated!\n",
      "`imsave` is deprecated in SciPy 1.0.0, and will be removed in 1.2.0.\n",
      "Use ``imageio.imwrite`` instead.\n",
      "  \n"
     ]
    },
    {
     "name": "stdout",
     "output_type": "stream",
     "text": [
      "Train on 1171796 samples\n",
      "Epoch 1/4\n",
      "1171796/1171796 [==============================] - 54s 46us/sample - loss: 0.0578 - accuracy: 0.9883\n",
      "Epoch 2/4\n",
      "1171796/1171796 [==============================] - 54s 46us/sample - loss: 0.0386 - accuracy: 0.9910\n",
      "Epoch 3/4\n",
      "1171796/1171796 [==============================] - 53s 45us/sample - loss: 0.0355 - accuracy: 0.9919\n",
      "Epoch 4/4\n",
      "1171796/1171796 [==============================] - 53s 46us/sample - loss: 0.0371 - accuracy: 0.9915\n"
     ]
    },
    {
     "name": "stderr",
     "output_type": "stream",
     "text": [
      "/home/h-meng/.local/lib/python3.6/site-packages/ipykernel_launcher.py:6: DeprecationWarning: `imsave` is deprecated!\n",
      "`imsave` is deprecated in SciPy 1.0.0, and will be removed in 1.2.0.\n",
      "Use ``imageio.imwrite`` instead.\n",
      "  \n"
     ]
    },
    {
     "name": "stdout",
     "output_type": "stream",
     "text": [
      "Train on 1171796 samples\n",
      "Epoch 1/5\n",
      "1171796/1171796 [==============================] - 54s 46us/sample - loss: 0.0459 - accuracy: 0.9891\n",
      "Epoch 2/5\n",
      "1171796/1171796 [==============================] - 54s 46us/sample - loss: 0.0355 - accuracy: 0.9907\n",
      "Epoch 3/5\n",
      "1171796/1171796 [==============================] - 53s 46us/sample - loss: 0.0329 - accuracy: 0.9912\n",
      "Epoch 4/5\n",
      "1171796/1171796 [==============================] - 54s 46us/sample - loss: 0.0340 - accuracy: 0.9917\n",
      "Epoch 5/5\n",
      "1171796/1171796 [==============================] - 54s 46us/sample - loss: 0.0332 - accuracy: 0.9924\n"
     ]
    },
    {
     "name": "stderr",
     "output_type": "stream",
     "text": [
      "/home/h-meng/.local/lib/python3.6/site-packages/ipykernel_launcher.py:6: DeprecationWarning: `imsave` is deprecated!\n",
      "`imsave` is deprecated in SciPy 1.0.0, and will be removed in 1.2.0.\n",
      "Use ``imageio.imwrite`` instead.\n",
      "  \n"
     ]
    },
    {
     "name": "stdout",
     "output_type": "stream",
     "text": [
      "Train on 1171796 samples\n",
      "Epoch 1/6\n",
      "1171796/1171796 [==============================] - 53s 45us/sample - loss: 0.0509 - accuracy: 0.9884\n",
      "Epoch 2/6\n",
      "1171796/1171796 [==============================] - 53s 45us/sample - loss: 0.0361 - accuracy: 0.9911\n",
      "Epoch 3/6\n",
      "1171796/1171796 [==============================] - 53s 45us/sample - loss: 0.0325 - accuracy: 0.9919\n",
      "Epoch 4/6\n",
      "1171796/1171796 [==============================] - 52s 45us/sample - loss: 0.0312 - accuracy: 0.9924\n",
      "Epoch 5/6\n",
      "1171796/1171796 [==============================] - 53s 45us/sample - loss: 0.0308 - accuracy: 0.9925\n",
      "Epoch 6/6\n",
      "1171796/1171796 [==============================] - 53s 45us/sample - loss: 0.0286 - accuracy: 0.9930\n"
     ]
    },
    {
     "name": "stderr",
     "output_type": "stream",
     "text": [
      "/home/h-meng/.local/lib/python3.6/site-packages/ipykernel_launcher.py:6: DeprecationWarning: `imsave` is deprecated!\n",
      "`imsave` is deprecated in SciPy 1.0.0, and will be removed in 1.2.0.\n",
      "Use ``imageio.imwrite`` instead.\n",
      "  \n"
     ]
    },
    {
     "name": "stdout",
     "output_type": "stream",
     "text": [
      "Train on 1171796 samples\n",
      "Epoch 1/7\n",
      "1171796/1171796 [==============================] - 54s 46us/sample - loss: 0.0483 - accuracy: 0.9889\n",
      "Epoch 2/7\n",
      "1171796/1171796 [==============================] - 54s 46us/sample - loss: 0.0373 - accuracy: 0.9904\n",
      "Epoch 3/7\n",
      "1171796/1171796 [==============================] - 56s 48us/sample - loss: 0.0368 - accuracy: 0.9909\n",
      "Epoch 4/7\n",
      "1171796/1171796 [==============================] - 54s 46us/sample - loss: 0.0310 - accuracy: 0.9916\n",
      "Epoch 5/7\n",
      "1171796/1171796 [==============================] - 54s 46us/sample - loss: 0.0306 - accuracy: 0.9918\n",
      "Epoch 6/7\n",
      "1171796/1171796 [==============================] - 54s 46us/sample - loss: 0.0306 - accuracy: 0.9919\n",
      "Epoch 7/7\n",
      "1171796/1171796 [==============================] - 54s 46us/sample - loss: 0.0315 - accuracy: 0.9917\n"
     ]
    },
    {
     "name": "stderr",
     "output_type": "stream",
     "text": [
      "/home/h-meng/.local/lib/python3.6/site-packages/ipykernel_launcher.py:6: DeprecationWarning: `imsave` is deprecated!\n",
      "`imsave` is deprecated in SciPy 1.0.0, and will be removed in 1.2.0.\n",
      "Use ``imageio.imwrite`` instead.\n",
      "  \n"
     ]
    },
    {
     "name": "stdout",
     "output_type": "stream",
     "text": [
      "Train on 1171796 samples\n",
      "Epoch 1/8\n",
      "1171796/1171796 [==============================] - 54s 46us/sample - loss: 0.0507 - accuracy: 0.9883\n",
      "Epoch 2/8\n",
      "1171796/1171796 [==============================] - 53s 45us/sample - loss: 0.0407 - accuracy: 0.9902\n",
      "Epoch 3/8\n",
      "1171796/1171796 [==============================] - 53s 46us/sample - loss: 0.0355 - accuracy: 0.9918\n",
      "Epoch 4/8\n",
      "1171796/1171796 [==============================] - 53s 45us/sample - loss: 0.0387 - accuracy: 0.9910\n",
      "Epoch 5/8\n",
      "1171796/1171796 [==============================] - 53s 45us/sample - loss: 0.0383 - accuracy: 0.9907\n",
      "Epoch 6/8\n",
      "1171796/1171796 [==============================] - 53s 46us/sample - loss: 0.0342 - accuracy: 0.9917\n",
      "Epoch 7/8\n",
      "1171796/1171796 [==============================] - 54s 46us/sample - loss: 0.0327 - accuracy: 0.9918\n",
      "Epoch 8/8\n",
      "1171796/1171796 [==============================] - 54s 46us/sample - loss: 0.0337 - accuracy: 0.9918\n"
     ]
    },
    {
     "name": "stderr",
     "output_type": "stream",
     "text": [
      "/home/h-meng/.local/lib/python3.6/site-packages/ipykernel_launcher.py:6: DeprecationWarning: `imsave` is deprecated!\n",
      "`imsave` is deprecated in SciPy 1.0.0, and will be removed in 1.2.0.\n",
      "Use ``imageio.imwrite`` instead.\n",
      "  \n"
     ]
    },
    {
     "name": "stdout",
     "output_type": "stream",
     "text": [
      "Train on 1171796 samples\n",
      "Epoch 1/9\n",
      "1171796/1171796 [==============================] - 54s 46us/sample - loss: 0.0511 - accuracy: 0.9884\n",
      "Epoch 2/9\n",
      "1171796/1171796 [==============================] - 54s 46us/sample - loss: 0.0351 - accuracy: 0.9905\n",
      "Epoch 3/9\n",
      "1171796/1171796 [==============================] - 54s 46us/sample - loss: 0.0348 - accuracy: 0.9911\n",
      "Epoch 4/9\n",
      "1171796/1171796 [==============================] - 54s 46us/sample - loss: 0.0312 - accuracy: 0.9925\n",
      "Epoch 5/9\n",
      "1171796/1171796 [==============================] - 54s 46us/sample - loss: 0.0328 - accuracy: 0.9923\n",
      "Epoch 6/9\n",
      "1171796/1171796 [==============================] - 54s 46us/sample - loss: 0.0322 - accuracy: 0.9924\n",
      "Epoch 7/9\n",
      "1171796/1171796 [==============================] - 54s 46us/sample - loss: 0.0304 - accuracy: 0.9923\n",
      "Epoch 8/9\n",
      "1171796/1171796 [==============================] - 54s 46us/sample - loss: 0.0282 - accuracy: 0.9927\n",
      "Epoch 9/9\n",
      "1171796/1171796 [==============================] - 54s 46us/sample - loss: 0.0285 - accuracy: 0.9929\n"
     ]
    },
    {
     "name": "stderr",
     "output_type": "stream",
     "text": [
      "/home/h-meng/.local/lib/python3.6/site-packages/ipykernel_launcher.py:6: DeprecationWarning: `imsave` is deprecated!\n",
      "`imsave` is deprecated in SciPy 1.0.0, and will be removed in 1.2.0.\n",
      "Use ``imageio.imwrite`` instead.\n",
      "  \n"
     ]
    },
    {
     "name": "stdout",
     "output_type": "stream",
     "text": [
      "Train on 1171796 samples\n",
      "Epoch 1/10\n",
      "1171796/1171796 [==============================] - 54s 46us/sample - loss: 0.0519 - accuracy: 0.9886\n",
      "Epoch 2/10\n",
      "1171796/1171796 [==============================] - 53s 45us/sample - loss: 0.0365 - accuracy: 0.9905\n",
      "Epoch 3/10\n",
      "1171796/1171796 [==============================] - 53s 46us/sample - loss: 0.0333 - accuracy: 0.9913\n",
      "Epoch 4/10\n",
      "1171796/1171796 [==============================] - 53s 45us/sample - loss: 0.0321 - accuracy: 0.9916\n",
      "Epoch 5/10\n",
      "1171796/1171796 [==============================] - 53s 45us/sample - loss: 0.0321 - accuracy: 0.9919\n",
      "Epoch 6/10\n",
      "1171796/1171796 [==============================] - 53s 46us/sample - loss: 0.0316 - accuracy: 0.9922\n",
      "Epoch 7/10\n",
      "1171796/1171796 [==============================] - 54s 46us/sample - loss: 0.0285 - accuracy: 0.9924\n",
      "Epoch 8/10\n",
      "1171796/1171796 [==============================] - 54s 46us/sample - loss: 0.0281 - accuracy: 0.9929\n",
      "Epoch 9/10\n",
      "1171796/1171796 [==============================] - 54s 46us/sample - loss: 0.0298 - accuracy: 0.9926\n",
      "Epoch 10/10\n",
      "1171796/1171796 [==============================] - 54s 46us/sample - loss: 0.0274 - accuracy: 0.9930\n"
     ]
    },
    {
     "name": "stderr",
     "output_type": "stream",
     "text": [
      "/home/h-meng/.local/lib/python3.6/site-packages/ipykernel_launcher.py:6: DeprecationWarning: `imsave` is deprecated!\n",
      "`imsave` is deprecated in SciPy 1.0.0, and will be removed in 1.2.0.\n",
      "Use ``imageio.imwrite`` instead.\n",
      "  \n"
     ]
    },
    {
     "name": "stdout",
     "output_type": "stream",
     "text": [
      "Train on 1171796 samples\n",
      "Epoch 1/11\n",
      "1171796/1171796 [==============================] - 55s 47us/sample - loss: 0.0535 - accuracy: 0.9881\n",
      "Epoch 2/11\n",
      "1171796/1171796 [==============================] - 54s 46us/sample - loss: 0.0366 - accuracy: 0.9907\n",
      "Epoch 3/11\n",
      "1171796/1171796 [==============================] - 54s 46us/sample - loss: 0.0304 - accuracy: 0.9917\n",
      "Epoch 4/11\n",
      "1171796/1171796 [==============================] - 54s 46us/sample - loss: 0.0291 - accuracy: 0.9921\n",
      "Epoch 5/11\n",
      "1171796/1171796 [==============================] - 54s 46us/sample - loss: 0.0268 - accuracy: 0.9925\n",
      "Epoch 6/11\n",
      "1171796/1171796 [==============================] - 54s 46us/sample - loss: 0.0264 - accuracy: 0.9929\n",
      "Epoch 7/11\n",
      "1171796/1171796 [==============================] - 54s 46us/sample - loss: 0.0265 - accuracy: 0.9929\n",
      "Epoch 8/11\n",
      "1171796/1171796 [==============================] - 54s 46us/sample - loss: 0.0262 - accuracy: 0.9930\n",
      "Epoch 9/11\n",
      "1171796/1171796 [==============================] - 66s 57us/sample - loss: 0.0253 - accuracy: 0.9930\n",
      "Epoch 10/11\n",
      "1171796/1171796 [==============================] - 71s 60us/sample - loss: 0.0260 - accuracy: 0.9930\n",
      "Epoch 11/11\n",
      "1171796/1171796 [==============================] - 69s 59us/sample - loss: 0.0246 - accuracy: 0.9932\n"
     ]
    },
    {
     "name": "stderr",
     "output_type": "stream",
     "text": [
      "/home/h-meng/.local/lib/python3.6/site-packages/ipykernel_launcher.py:6: DeprecationWarning: `imsave` is deprecated!\n",
      "`imsave` is deprecated in SciPy 1.0.0, and will be removed in 1.2.0.\n",
      "Use ``imageio.imwrite`` instead.\n",
      "  \n"
     ]
    },
    {
     "name": "stdout",
     "output_type": "stream",
     "text": [
      "Train on 1171796 samples\n",
      "Epoch 1/12\n",
      "1171796/1171796 [==============================] - 62s 53us/sample - loss: 0.0521 - accuracy: 0.9880\n",
      "Epoch 2/12\n",
      "1171796/1171796 [==============================] - 54s 46us/sample - loss: 0.0391 - accuracy: 0.9910\n",
      "Epoch 3/12\n",
      "1171796/1171796 [==============================] - 52s 45us/sample - loss: 0.0395 - accuracy: 0.9911\n",
      "Epoch 4/12\n",
      "1171796/1171796 [==============================] - 53s 45us/sample - loss: 0.0342 - accuracy: 0.9918\n",
      "Epoch 5/12\n",
      "1171796/1171796 [==============================] - 53s 45us/sample - loss: 0.0303 - accuracy: 0.9926\n",
      "Epoch 6/12\n",
      "1171796/1171796 [==============================] - 53s 45us/sample - loss: 0.0290 - accuracy: 0.9928\n",
      "Epoch 7/12\n",
      "1171796/1171796 [==============================] - 57s 49us/sample - loss: 0.0319 - accuracy: 0.9924\n",
      "Epoch 8/12\n",
      "1171796/1171796 [==============================] - 61s 52us/sample - loss: 0.0313 - accuracy: 0.9923\n",
      "Epoch 9/12\n",
      "1171796/1171796 [==============================] - 59s 50us/sample - loss: 0.0316 - accuracy: 0.9919\n",
      "Epoch 10/12\n",
      "1171796/1171796 [==============================] - 59s 50us/sample - loss: 0.0263 - accuracy: 0.9933\n",
      "Epoch 11/12\n",
      "1171796/1171796 [==============================] - 59s 51us/sample - loss: 0.0251 - accuracy: 0.9936\n",
      "Epoch 12/12\n",
      "1171796/1171796 [==============================] - 62s 53us/sample - loss: 0.0248 - accuracy: 0.9936\n"
     ]
    },
    {
     "name": "stderr",
     "output_type": "stream",
     "text": [
      "/home/h-meng/.local/lib/python3.6/site-packages/ipykernel_launcher.py:6: DeprecationWarning: `imsave` is deprecated!\n",
      "`imsave` is deprecated in SciPy 1.0.0, and will be removed in 1.2.0.\n",
      "Use ``imageio.imwrite`` instead.\n",
      "  \n"
     ]
    },
    {
     "name": "stdout",
     "output_type": "stream",
     "text": [
      "Train on 1171796 samples\n",
      "Epoch 1/13\n",
      " 321280/1171796 [=======>......................] - ETA: 45s - loss: 0.0787 - accuracy: 0.9851"
     ]
    },
    {
     "ename": "KeyboardInterrupt",
     "evalue": "",
     "output_type": "error",
     "traceback": [
      "\u001b[0;31m---------------------------------------------------------------------------\u001b[0m",
      "\u001b[0;31mKeyboardInterrupt\u001b[0m                         Traceback (most recent call last)",
      "\u001b[0;32m<ipython-input-3-e1729853ad43>\u001b[0m in \u001b[0;36m<module>\u001b[0;34m\u001b[0m\n\u001b[1;32m      1\u001b[0m \u001b[0;32mfor\u001b[0m \u001b[0mi\u001b[0m \u001b[0;32min\u001b[0m \u001b[0mrange\u001b[0m\u001b[0;34m(\u001b[0m\u001b[0;36m20\u001b[0m\u001b[0;34m)\u001b[0m\u001b[0;34m:\u001b[0m\u001b[0;34m\u001b[0m\u001b[0;34m\u001b[0m\u001b[0m\n\u001b[1;32m      2\u001b[0m     \u001b[0mmodel\u001b[0m \u001b[0;34m=\u001b[0m \u001b[0mmodel_generate\u001b[0m\u001b[0;34m(\u001b[0m\u001b[0mtrain_x\u001b[0m\u001b[0;34m)\u001b[0m\u001b[0;34m\u001b[0m\u001b[0;34m\u001b[0m\u001b[0m\n\u001b[0;32m----> 3\u001b[0;31m     \u001b[0mmodel\u001b[0m\u001b[0;34m.\u001b[0m\u001b[0mfit\u001b[0m\u001b[0;34m(\u001b[0m\u001b[0mtrain_x\u001b[0m\u001b[0;34m,\u001b[0m\u001b[0mtrain_y\u001b[0m\u001b[0;34m,\u001b[0m\u001b[0mepochs\u001b[0m\u001b[0;34m=\u001b[0m\u001b[0mi\u001b[0m\u001b[0;34m+\u001b[0m\u001b[0;36m1\u001b[0m\u001b[0;34m)\u001b[0m\u001b[0;34m\u001b[0m\u001b[0;34m\u001b[0m\u001b[0m\n\u001b[0m\u001b[1;32m      4\u001b[0m     \u001b[0mpredict_data\u001b[0m \u001b[0;34m=\u001b[0m \u001b[0mDataLoader_for_predict\u001b[0m\u001b[0;34m(\u001b[0m\u001b[0;34m'data/test_1.tif'\u001b[0m\u001b[0;34m,\u001b[0m\u001b[0;36m6\u001b[0m\u001b[0;34m,\u001b[0m\u001b[0;36m6\u001b[0m\u001b[0;34m)\u001b[0m\u001b[0;34m\u001b[0m\u001b[0;34m\u001b[0m\u001b[0m\n\u001b[1;32m      5\u001b[0m     \u001b[0mtest_y\u001b[0m \u001b[0;34m=\u001b[0m \u001b[0mpredict_data\u001b[0m\u001b[0;34m.\u001b[0m\u001b[0mgenerate_predict_lable\u001b[0m\u001b[0;34m(\u001b[0m\u001b[0mmodel\u001b[0m\u001b[0;34m)\u001b[0m\u001b[0;34m\u001b[0m\u001b[0;34m\u001b[0m\u001b[0m\n",
      "\u001b[0;32m~/.local/lib/python3.6/site-packages/tensorflow_core/python/keras/engine/training.py\u001b[0m in \u001b[0;36mfit\u001b[0;34m(self, x, y, batch_size, epochs, verbose, callbacks, validation_split, validation_data, shuffle, class_weight, sample_weight, initial_epoch, steps_per_epoch, validation_steps, validation_freq, max_queue_size, workers, use_multiprocessing, **kwargs)\u001b[0m\n\u001b[1;32m    726\u001b[0m         \u001b[0mmax_queue_size\u001b[0m\u001b[0;34m=\u001b[0m\u001b[0mmax_queue_size\u001b[0m\u001b[0;34m,\u001b[0m\u001b[0;34m\u001b[0m\u001b[0;34m\u001b[0m\u001b[0m\n\u001b[1;32m    727\u001b[0m         \u001b[0mworkers\u001b[0m\u001b[0;34m=\u001b[0m\u001b[0mworkers\u001b[0m\u001b[0;34m,\u001b[0m\u001b[0;34m\u001b[0m\u001b[0;34m\u001b[0m\u001b[0m\n\u001b[0;32m--> 728\u001b[0;31m         use_multiprocessing=use_multiprocessing)\n\u001b[0m\u001b[1;32m    729\u001b[0m \u001b[0;34m\u001b[0m\u001b[0m\n\u001b[1;32m    730\u001b[0m   def evaluate(self,\n",
      "\u001b[0;32m~/.local/lib/python3.6/site-packages/tensorflow_core/python/keras/engine/training_v2.py\u001b[0m in \u001b[0;36mfit\u001b[0;34m(self, model, x, y, batch_size, epochs, verbose, callbacks, validation_split, validation_data, shuffle, class_weight, sample_weight, initial_epoch, steps_per_epoch, validation_steps, validation_freq, **kwargs)\u001b[0m\n\u001b[1;32m    322\u001b[0m                 \u001b[0mmode\u001b[0m\u001b[0;34m=\u001b[0m\u001b[0mModeKeys\u001b[0m\u001b[0;34m.\u001b[0m\u001b[0mTRAIN\u001b[0m\u001b[0;34m,\u001b[0m\u001b[0;34m\u001b[0m\u001b[0;34m\u001b[0m\u001b[0m\n\u001b[1;32m    323\u001b[0m                 \u001b[0mtraining_context\u001b[0m\u001b[0;34m=\u001b[0m\u001b[0mtraining_context\u001b[0m\u001b[0;34m,\u001b[0m\u001b[0;34m\u001b[0m\u001b[0;34m\u001b[0m\u001b[0m\n\u001b[0;32m--> 324\u001b[0;31m                 total_epochs=epochs)\n\u001b[0m\u001b[1;32m    325\u001b[0m             \u001b[0mcbks\u001b[0m\u001b[0;34m.\u001b[0m\u001b[0mmake_logs\u001b[0m\u001b[0;34m(\u001b[0m\u001b[0mmodel\u001b[0m\u001b[0;34m,\u001b[0m \u001b[0mepoch_logs\u001b[0m\u001b[0;34m,\u001b[0m \u001b[0mtraining_result\u001b[0m\u001b[0;34m,\u001b[0m \u001b[0mModeKeys\u001b[0m\u001b[0;34m.\u001b[0m\u001b[0mTRAIN\u001b[0m\u001b[0;34m)\u001b[0m\u001b[0;34m\u001b[0m\u001b[0;34m\u001b[0m\u001b[0m\n\u001b[1;32m    326\u001b[0m \u001b[0;34m\u001b[0m\u001b[0m\n",
      "\u001b[0;32m~/.local/lib/python3.6/site-packages/tensorflow_core/python/keras/engine/training_v2.py\u001b[0m in \u001b[0;36mrun_one_epoch\u001b[0;34m(model, iterator, execution_function, dataset_size, batch_size, strategy, steps_per_epoch, num_samples, mode, training_context, total_epochs)\u001b[0m\n\u001b[1;32m    121\u001b[0m         step=step, mode=mode, size=current_batch_size) as batch_logs:\n\u001b[1;32m    122\u001b[0m       \u001b[0;32mtry\u001b[0m\u001b[0;34m:\u001b[0m\u001b[0;34m\u001b[0m\u001b[0;34m\u001b[0m\u001b[0m\n\u001b[0;32m--> 123\u001b[0;31m         \u001b[0mbatch_outs\u001b[0m \u001b[0;34m=\u001b[0m \u001b[0mexecution_function\u001b[0m\u001b[0;34m(\u001b[0m\u001b[0miterator\u001b[0m\u001b[0;34m)\u001b[0m\u001b[0;34m\u001b[0m\u001b[0;34m\u001b[0m\u001b[0m\n\u001b[0m\u001b[1;32m    124\u001b[0m       \u001b[0;32mexcept\u001b[0m \u001b[0;34m(\u001b[0m\u001b[0mStopIteration\u001b[0m\u001b[0;34m,\u001b[0m \u001b[0merrors\u001b[0m\u001b[0;34m.\u001b[0m\u001b[0mOutOfRangeError\u001b[0m\u001b[0;34m)\u001b[0m\u001b[0;34m:\u001b[0m\u001b[0;34m\u001b[0m\u001b[0;34m\u001b[0m\u001b[0m\n\u001b[1;32m    125\u001b[0m         \u001b[0;31m# TODO(kaftan): File bug about tf function and errors.OutOfRangeError?\u001b[0m\u001b[0;34m\u001b[0m\u001b[0;34m\u001b[0m\u001b[0;34m\u001b[0m\u001b[0m\n",
      "\u001b[0;32m~/.local/lib/python3.6/site-packages/tensorflow_core/python/keras/engine/training_v2_utils.py\u001b[0m in \u001b[0;36mexecution_function\u001b[0;34m(input_fn)\u001b[0m\n\u001b[1;32m     84\u001b[0m     \u001b[0;31m# `numpy` translates Tensors to values in Eager mode.\u001b[0m\u001b[0;34m\u001b[0m\u001b[0;34m\u001b[0m\u001b[0;34m\u001b[0m\u001b[0m\n\u001b[1;32m     85\u001b[0m     return nest.map_structure(_non_none_constant_value,\n\u001b[0;32m---> 86\u001b[0;31m                               distributed_function(input_fn))\n\u001b[0m\u001b[1;32m     87\u001b[0m \u001b[0;34m\u001b[0m\u001b[0m\n\u001b[1;32m     88\u001b[0m   \u001b[0;32mreturn\u001b[0m \u001b[0mexecution_function\u001b[0m\u001b[0;34m\u001b[0m\u001b[0;34m\u001b[0m\u001b[0m\n",
      "\u001b[0;32m~/.local/lib/python3.6/site-packages/tensorflow_core/python/eager/def_function.py\u001b[0m in \u001b[0;36m__call__\u001b[0;34m(self, *args, **kwds)\u001b[0m\n\u001b[1;32m    455\u001b[0m \u001b[0;34m\u001b[0m\u001b[0m\n\u001b[1;32m    456\u001b[0m     \u001b[0mtracing_count\u001b[0m \u001b[0;34m=\u001b[0m \u001b[0mself\u001b[0m\u001b[0;34m.\u001b[0m\u001b[0m_get_tracing_count\u001b[0m\u001b[0;34m(\u001b[0m\u001b[0;34m)\u001b[0m\u001b[0;34m\u001b[0m\u001b[0;34m\u001b[0m\u001b[0m\n\u001b[0;32m--> 457\u001b[0;31m     \u001b[0mresult\u001b[0m \u001b[0;34m=\u001b[0m \u001b[0mself\u001b[0m\u001b[0;34m.\u001b[0m\u001b[0m_call\u001b[0m\u001b[0;34m(\u001b[0m\u001b[0;34m*\u001b[0m\u001b[0margs\u001b[0m\u001b[0;34m,\u001b[0m \u001b[0;34m**\u001b[0m\u001b[0mkwds\u001b[0m\u001b[0;34m)\u001b[0m\u001b[0;34m\u001b[0m\u001b[0;34m\u001b[0m\u001b[0m\n\u001b[0m\u001b[1;32m    458\u001b[0m     \u001b[0;32mif\u001b[0m \u001b[0mtracing_count\u001b[0m \u001b[0;34m==\u001b[0m \u001b[0mself\u001b[0m\u001b[0;34m.\u001b[0m\u001b[0m_get_tracing_count\u001b[0m\u001b[0;34m(\u001b[0m\u001b[0;34m)\u001b[0m\u001b[0;34m:\u001b[0m\u001b[0;34m\u001b[0m\u001b[0;34m\u001b[0m\u001b[0m\n\u001b[1;32m    459\u001b[0m       \u001b[0mself\u001b[0m\u001b[0;34m.\u001b[0m\u001b[0m_call_counter\u001b[0m\u001b[0;34m.\u001b[0m\u001b[0mcalled_without_tracing\u001b[0m\u001b[0;34m(\u001b[0m\u001b[0;34m)\u001b[0m\u001b[0;34m\u001b[0m\u001b[0;34m\u001b[0m\u001b[0m\n",
      "\u001b[0;32m~/.local/lib/python3.6/site-packages/tensorflow_core/python/eager/def_function.py\u001b[0m in \u001b[0;36m_call\u001b[0;34m(self, *args, **kwds)\u001b[0m\n\u001b[1;32m    485\u001b[0m       \u001b[0;31m# In this case we have created variables on the first call, so we run the\u001b[0m\u001b[0;34m\u001b[0m\u001b[0;34m\u001b[0m\u001b[0;34m\u001b[0m\u001b[0m\n\u001b[1;32m    486\u001b[0m       \u001b[0;31m# defunned version which is guaranteed to never create variables.\u001b[0m\u001b[0;34m\u001b[0m\u001b[0;34m\u001b[0m\u001b[0;34m\u001b[0m\u001b[0m\n\u001b[0;32m--> 487\u001b[0;31m       \u001b[0;32mreturn\u001b[0m \u001b[0mself\u001b[0m\u001b[0;34m.\u001b[0m\u001b[0m_stateless_fn\u001b[0m\u001b[0;34m(\u001b[0m\u001b[0;34m*\u001b[0m\u001b[0margs\u001b[0m\u001b[0;34m,\u001b[0m \u001b[0;34m**\u001b[0m\u001b[0mkwds\u001b[0m\u001b[0;34m)\u001b[0m  \u001b[0;31m# pylint: disable=not-callable\u001b[0m\u001b[0;34m\u001b[0m\u001b[0;34m\u001b[0m\u001b[0m\n\u001b[0m\u001b[1;32m    488\u001b[0m     \u001b[0;32melif\u001b[0m \u001b[0mself\u001b[0m\u001b[0;34m.\u001b[0m\u001b[0m_stateful_fn\u001b[0m \u001b[0;32mis\u001b[0m \u001b[0;32mnot\u001b[0m \u001b[0;32mNone\u001b[0m\u001b[0;34m:\u001b[0m\u001b[0;34m\u001b[0m\u001b[0;34m\u001b[0m\u001b[0m\n\u001b[1;32m    489\u001b[0m       \u001b[0;31m# Release the lock early so that multiple threads can perform the call\u001b[0m\u001b[0;34m\u001b[0m\u001b[0;34m\u001b[0m\u001b[0;34m\u001b[0m\u001b[0m\n",
      "\u001b[0;32m~/.local/lib/python3.6/site-packages/tensorflow_core/python/eager/function.py\u001b[0m in \u001b[0;36m__call__\u001b[0;34m(self, *args, **kwargs)\u001b[0m\n\u001b[1;32m   1821\u001b[0m     \u001b[0;34m\"\"\"Calls a graph function specialized to the inputs.\"\"\"\u001b[0m\u001b[0;34m\u001b[0m\u001b[0;34m\u001b[0m\u001b[0m\n\u001b[1;32m   1822\u001b[0m     \u001b[0mgraph_function\u001b[0m\u001b[0;34m,\u001b[0m \u001b[0margs\u001b[0m\u001b[0;34m,\u001b[0m \u001b[0mkwargs\u001b[0m \u001b[0;34m=\u001b[0m \u001b[0mself\u001b[0m\u001b[0;34m.\u001b[0m\u001b[0m_maybe_define_function\u001b[0m\u001b[0;34m(\u001b[0m\u001b[0margs\u001b[0m\u001b[0;34m,\u001b[0m \u001b[0mkwargs\u001b[0m\u001b[0;34m)\u001b[0m\u001b[0;34m\u001b[0m\u001b[0;34m\u001b[0m\u001b[0m\n\u001b[0;32m-> 1823\u001b[0;31m     \u001b[0;32mreturn\u001b[0m \u001b[0mgraph_function\u001b[0m\u001b[0;34m.\u001b[0m\u001b[0m_filtered_call\u001b[0m\u001b[0;34m(\u001b[0m\u001b[0margs\u001b[0m\u001b[0;34m,\u001b[0m \u001b[0mkwargs\u001b[0m\u001b[0;34m)\u001b[0m  \u001b[0;31m# pylint: disable=protected-access\u001b[0m\u001b[0;34m\u001b[0m\u001b[0;34m\u001b[0m\u001b[0m\n\u001b[0m\u001b[1;32m   1824\u001b[0m \u001b[0;34m\u001b[0m\u001b[0m\n\u001b[1;32m   1825\u001b[0m   \u001b[0;34m@\u001b[0m\u001b[0mproperty\u001b[0m\u001b[0;34m\u001b[0m\u001b[0;34m\u001b[0m\u001b[0m\n",
      "\u001b[0;32m~/.local/lib/python3.6/site-packages/tensorflow_core/python/eager/function.py\u001b[0m in \u001b[0;36m_filtered_call\u001b[0;34m(self, args, kwargs)\u001b[0m\n\u001b[1;32m   1139\u001b[0m          if isinstance(t, (ops.Tensor,\n\u001b[1;32m   1140\u001b[0m                            resource_variable_ops.BaseResourceVariable))),\n\u001b[0;32m-> 1141\u001b[0;31m         self.captured_inputs)\n\u001b[0m\u001b[1;32m   1142\u001b[0m \u001b[0;34m\u001b[0m\u001b[0m\n\u001b[1;32m   1143\u001b[0m   \u001b[0;32mdef\u001b[0m \u001b[0m_call_flat\u001b[0m\u001b[0;34m(\u001b[0m\u001b[0mself\u001b[0m\u001b[0;34m,\u001b[0m \u001b[0margs\u001b[0m\u001b[0;34m,\u001b[0m \u001b[0mcaptured_inputs\u001b[0m\u001b[0;34m,\u001b[0m \u001b[0mcancellation_manager\u001b[0m\u001b[0;34m=\u001b[0m\u001b[0;32mNone\u001b[0m\u001b[0;34m)\u001b[0m\u001b[0;34m:\u001b[0m\u001b[0;34m\u001b[0m\u001b[0;34m\u001b[0m\u001b[0m\n",
      "\u001b[0;32m~/.local/lib/python3.6/site-packages/tensorflow_core/python/eager/function.py\u001b[0m in \u001b[0;36m_call_flat\u001b[0;34m(self, args, captured_inputs, cancellation_manager)\u001b[0m\n\u001b[1;32m   1222\u001b[0m     \u001b[0;32mif\u001b[0m \u001b[0mexecuting_eagerly\u001b[0m\u001b[0;34m:\u001b[0m\u001b[0;34m\u001b[0m\u001b[0;34m\u001b[0m\u001b[0m\n\u001b[1;32m   1223\u001b[0m       flat_outputs = forward_function.call(\n\u001b[0;32m-> 1224\u001b[0;31m           ctx, args, cancellation_manager=cancellation_manager)\n\u001b[0m\u001b[1;32m   1225\u001b[0m     \u001b[0;32melse\u001b[0m\u001b[0;34m:\u001b[0m\u001b[0;34m\u001b[0m\u001b[0;34m\u001b[0m\u001b[0m\n\u001b[1;32m   1226\u001b[0m       \u001b[0mgradient_name\u001b[0m \u001b[0;34m=\u001b[0m \u001b[0mself\u001b[0m\u001b[0;34m.\u001b[0m\u001b[0m_delayed_rewrite_functions\u001b[0m\u001b[0;34m.\u001b[0m\u001b[0mregister\u001b[0m\u001b[0;34m(\u001b[0m\u001b[0;34m)\u001b[0m\u001b[0;34m\u001b[0m\u001b[0;34m\u001b[0m\u001b[0m\n",
      "\u001b[0;32m~/.local/lib/python3.6/site-packages/tensorflow_core/python/eager/function.py\u001b[0m in \u001b[0;36mcall\u001b[0;34m(self, ctx, args, cancellation_manager)\u001b[0m\n\u001b[1;32m    509\u001b[0m               \u001b[0minputs\u001b[0m\u001b[0;34m=\u001b[0m\u001b[0margs\u001b[0m\u001b[0;34m,\u001b[0m\u001b[0;34m\u001b[0m\u001b[0;34m\u001b[0m\u001b[0m\n\u001b[1;32m    510\u001b[0m               \u001b[0mattrs\u001b[0m\u001b[0;34m=\u001b[0m\u001b[0;34m(\u001b[0m\u001b[0;34m\"executor_type\"\u001b[0m\u001b[0;34m,\u001b[0m \u001b[0mexecutor_type\u001b[0m\u001b[0;34m,\u001b[0m \u001b[0;34m\"config_proto\"\u001b[0m\u001b[0;34m,\u001b[0m \u001b[0mconfig\u001b[0m\u001b[0;34m)\u001b[0m\u001b[0;34m,\u001b[0m\u001b[0;34m\u001b[0m\u001b[0;34m\u001b[0m\u001b[0m\n\u001b[0;32m--> 511\u001b[0;31m               ctx=ctx)\n\u001b[0m\u001b[1;32m    512\u001b[0m         \u001b[0;32melse\u001b[0m\u001b[0;34m:\u001b[0m\u001b[0;34m\u001b[0m\u001b[0;34m\u001b[0m\u001b[0m\n\u001b[1;32m    513\u001b[0m           outputs = execute.execute_with_cancellation(\n",
      "\u001b[0;32m~/.local/lib/python3.6/site-packages/tensorflow_core/python/eager/execute.py\u001b[0m in \u001b[0;36mquick_execute\u001b[0;34m(op_name, num_outputs, inputs, attrs, ctx, name)\u001b[0m\n\u001b[1;32m     59\u001b[0m     tensors = pywrap_tensorflow.TFE_Py_Execute(ctx._handle, device_name,\n\u001b[1;32m     60\u001b[0m                                                \u001b[0mop_name\u001b[0m\u001b[0;34m,\u001b[0m \u001b[0minputs\u001b[0m\u001b[0;34m,\u001b[0m \u001b[0mattrs\u001b[0m\u001b[0;34m,\u001b[0m\u001b[0;34m\u001b[0m\u001b[0;34m\u001b[0m\u001b[0m\n\u001b[0;32m---> 61\u001b[0;31m                                                num_outputs)\n\u001b[0m\u001b[1;32m     62\u001b[0m   \u001b[0;32mexcept\u001b[0m \u001b[0mcore\u001b[0m\u001b[0;34m.\u001b[0m\u001b[0m_NotOkStatusException\u001b[0m \u001b[0;32mas\u001b[0m \u001b[0me\u001b[0m\u001b[0;34m:\u001b[0m\u001b[0;34m\u001b[0m\u001b[0;34m\u001b[0m\u001b[0m\n\u001b[1;32m     63\u001b[0m     \u001b[0;32mif\u001b[0m \u001b[0mname\u001b[0m \u001b[0;32mis\u001b[0m \u001b[0;32mnot\u001b[0m \u001b[0;32mNone\u001b[0m\u001b[0;34m:\u001b[0m\u001b[0;34m\u001b[0m\u001b[0;34m\u001b[0m\u001b[0m\n",
      "\u001b[0;31mKeyboardInterrupt\u001b[0m: "
     ]
    }
   ],
   "source": [
    "for i in range(20):\n",
    "    model = model_generate(train_x)\n",
    "    model.fit(train_x,train_y,epochs=i+20)\n",
    "    predict_data = DataLoader_for_predict('data/test.tif',6,6)\n",
    "    test_y = predict_data.generate_predict_lable(model)\n",
    "    misc.imsave('images/MH_good_training_data_model_6_6_256_3_4_relu_epoch='+str(i+1)+'.tif', 1-test_y)\n",
    "    model.save('saved_model/MH_good_training_data_model_6_6_256_3_4_relu_epoch='+str(i+1)+'.h5')"
   ]
  },
  {
   "cell_type": "code",
   "execution_count": null,
   "metadata": {},
   "outputs": [],
   "source": []
  }
 ],
 "metadata": {
  "kernelspec": {
   "display_name": "Python 3",
   "language": "python",
   "name": "python3"
  },
  "language_info": {
   "codemirror_mode": {
    "name": "ipython",
    "version": 3
   },
   "file_extension": ".py",
   "mimetype": "text/x-python",
   "name": "python",
   "nbconvert_exporter": "python",
   "pygments_lexer": "ipython3",
   "version": "3.6.8"
  },
  "toc": {
   "base_numbering": 1,
   "nav_menu": {},
   "number_sections": true,
   "sideBar": true,
   "skip_h1_title": false,
   "title_cell": "Table of Contents",
   "title_sidebar": "Contents",
   "toc_cell": false,
   "toc_position": {},
   "toc_section_display": true,
   "toc_window_display": false
  }
 },
 "nbformat": 4,
 "nbformat_minor": 2
}
