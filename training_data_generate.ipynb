{
 "cells": [
  {
   "cell_type": "code",
   "execution_count": 1,
   "metadata": {},
   "outputs": [
    {
     "name": "stderr",
     "output_type": "stream",
     "text": [
      "Using TensorFlow backend.\n"
     ]
    }
   ],
   "source": [
    "import matplotlib.pyplot as plt # plt 用于显示图片\n",
    "import matplotlib.image as mpimg # mpimg 用于读取图片\n",
    "import numpy as np\n",
    "import pandas as pd\n",
    "from core.dataloader import DataLoader_for_training, DataLoader_for_predict\n",
    "from keras.models import load_model\n",
    "from scipy import misc"
   ]
  },
  {
   "cell_type": "code",
   "execution_count": 2,
   "metadata": {},
   "outputs": [
    {
     "name": "stdout",
     "output_type": "stream",
     "text": [
      "data_have_been_generated\n",
      "data/training_data/original_1.tif have successfull generated\n",
      "data_have_been_generated\n",
      "data/training_data/original_2.tif have successfull generated\n",
      "data_have_been_generated\n",
      "data/training_data/original_3.tif have successfull generated\n",
      "data_have_been_generated\n",
      "data/training_data/original_4.tif have successfull generated\n",
      "data_have_been_generated\n",
      "data/training_data/original_5.tif have successfull generated\n",
      "data_have_been_generated\n",
      "data/training_data/original_6.tif have successfull generated\n",
      "data_have_been_generated\n",
      "data/training_data/original_7.tif have successfull generated\n",
      "data_have_been_generated\n",
      "data/training_data/original_8.tif have successfull generated\n",
      "data_have_been_generated\n",
      "data/training_data/original_9.tif have successfull generated\n",
      "data_have_been_generated\n",
      "data/training_data/original_10.tif have successfull generated\n",
      "data_have_been_generated\n",
      "data/training_data/original_11.tif have successfull generated\n"
     ]
    }
   ],
   "source": [
    "for i in range(11):\n",
    "    original_filename ='data/MH_good_training_data/original_rigion_'+str(i+1)+'.tif'\n",
    "    labled_filename ='data/MH_good_training_data/label_rigion_'+str(i+1)+'.tif'\n",
    "    data = DataLoader_for_training(original_filename,labled_filename,6,6)\n",
    "    train_x, train_y = data.generate_training_data()\n",
    "    pd.DataFrame(train_x).to_csv('data/MH_good_training_data/original_all_6_6.csv',header = None, index = 0, mode = 'a')\n",
    "    pd.DataFrame(train_y).to_csv('data/MH_good_training_data/labled_all_6_6.csv',header = None, index = 0, mode = 'a')\n",
    "    print('data/training_data/original_'+str(i+1)+'.tif' + ' have successfull generated')"
   ]
  }
 ],
 "metadata": {
  "kernelspec": {
   "display_name": "Python 3",
   "language": "python",
   "name": "python3"
  },
  "language_info": {
   "codemirror_mode": {
    "name": "ipython",
    "version": 3
   },
   "file_extension": ".py",
   "mimetype": "text/x-python",
   "name": "python",
   "nbconvert_exporter": "python",
   "pygments_lexer": "ipython3",
   "version": "3.6.8"
  },
  "toc": {
   "base_numbering": 1,
   "nav_menu": {},
   "number_sections": true,
   "sideBar": true,
   "skip_h1_title": false,
   "title_cell": "Table of Contents",
   "title_sidebar": "Contents",
   "toc_cell": false,
   "toc_position": {},
   "toc_section_display": true,
   "toc_window_display": false
  }
 },
 "nbformat": 4,
 "nbformat_minor": 2
}
